{
 "cells": [
  {
   "cell_type": "markdown",
   "id": "005b97f1",
   "metadata": {},
   "source": [
    "# Projeto 01 - Análise exploratória sobre a quantidade de drones registrados no Brasil de Março/2019 a Set/2021"
   ]
  },
  {
   "cell_type": "markdown",
   "id": "f464039e",
   "metadata": {},
   "source": [
    "### Contexto\n",
    "\n",
    "Toda Aeronave Remotamente Tripulada ou RPAS (Remotely Piloted Aircreft System), comumente conhecidos como Drones, devem possuir um registro junto ao SISANT - Sistema de Aeronaves Não Tripulada.\n",
    "\n",
    "O SISANT é parte integrante da ANAC - A Agência Nacional de Aviação Civil (ANAC), uma das agências reguladoras federais do País criada para regular e fiscalizar as atividades da aviação civil e a infraestrutura aeronáutica e aeroportuária no Brasil. \n",
    "\n",
    "Instituída em 2005, começou a atuar em 2006 substituindo o Departamento de Aviação Civil (DAC). É uma autarquia federal de regime especial e está vinculada à Secretaria de Aviação Civil da Presidência da República. As ações da ANAC se enquadram nas atividades de certificação, fiscalização, normatização e representação institucional.\n",
    "\n",
    "Todas os RPAS seja para usos recreativos ou para usos não recreativos devem ter seu registro junto ao SISANT e qualquer voo deve ser solicitado previamente ao SARPAS, sistema esse desenvolvido pelo DECEA (Departamento de Controle do Espaço Aéreo) para solicitação de acesso ao Espaço Aéreo Brasileiro por Aeronaves Não Tripuladas.\n",
    "\n",
    "\n",
    "### Nosso Objetivo\n",
    "\n",
    "Através do presente banco de dados obter informações sobre:\n",
    "\n",
    "1) Quantas aeronaves foram registrados no período de Março/2019 a Setembro/2021?\n",
    "2) Quantas aeronaves foram registradas em nome de pessoas jurídicas?\n",
    "3) Quantas aeronaves foram registradas em nome de pessoas físicas?\n",
    "4) Qual o fabricante e o modelo com maior número de registros no período?\n",
    "5) Quais os 5 Estados com maior índice de registros?\n",
    "6) Quais os 5 Estados com menor índice de registros?\n",
    "7) Quais os principais ramos de atividade onde os drones são utilizados, de acordo com a classificação do próprio SISANT?\n",
    "\n",
    "\n",
    "### O que temos disponível, inspirações e créditos\n",
    "\n",
    "As bases de dados foram retiradas do Portal Brasileiro de Dados Abertos: https://dados.gov.br/dataset/aeronaves-drones-cadastrados\n",
    "\n",
    "Informações adicionais existentes no site:\n",
    "\n",
    "Fonte dos dados: https://anac.gov.br/acesso-a-informacao/dados-abertos\n",
    "Autor: Gerência Técnica de Normas Operacionais (GTNO/GNOS/SPO)\n",
    "Mantenedor: Gerência Técnica de Normas Operacionais (GTNO/GNOS/SPO)\n",
    "Última Atualização: 9 de Setembro de 2021, 18:35 (UTC-03:00)\n",
    "Criado em: 22 de Março de 2019, 14:37 (UTC-03:00)\n"
   ]
  },
  {
   "cell_type": "markdown",
   "id": "d8d2d8d2",
   "metadata": {},
   "source": [
    "### Importar Bibliotecas e Bases de Dados"
   ]
  },
  {
   "cell_type": "code",
   "execution_count": null,
   "id": "3deb953b",
   "metadata": {},
   "outputs": [],
   "source": []
  },
  {
   "cell_type": "markdown",
   "id": "8b033020",
   "metadata": {},
   "source": [
    "### Consolidar Base de Dados"
   ]
  },
  {
   "cell_type": "code",
   "execution_count": null,
   "id": "16aa3337",
   "metadata": {},
   "outputs": [],
   "source": []
  },
  {
   "cell_type": "markdown",
   "id": "220b588c",
   "metadata": {},
   "source": [
    "### Se tivermos muitas colunas, já vamos identificar quais colunas podemos excluir"
   ]
  },
  {
   "cell_type": "code",
   "execution_count": null,
   "id": "89fe8c4d",
   "metadata": {},
   "outputs": [],
   "source": []
  },
  {
   "cell_type": "markdown",
   "id": "fafb1459",
   "metadata": {},
   "source": [
    "### Tratar Valores Faltantes ou Nulos"
   ]
  },
  {
   "cell_type": "code",
   "execution_count": null,
   "id": "7659fb50",
   "metadata": {},
   "outputs": [],
   "source": []
  },
  {
   "cell_type": "markdown",
   "id": "0c145b68",
   "metadata": {},
   "source": [
    "### Verificar Tipos de Dados em cada coluna"
   ]
  },
  {
   "cell_type": "code",
   "execution_count": null,
   "id": "6bbd3275",
   "metadata": {},
   "outputs": [],
   "source": []
  },
  {
   "cell_type": "markdown",
   "id": "56e74bd6",
   "metadata": {},
   "source": [
    "### Análise Exploratória dos dados consolidados"
   ]
  },
  {
   "cell_type": "code",
   "execution_count": null,
   "id": "57c95a94",
   "metadata": {},
   "outputs": [],
   "source": []
  }
 ],
 "metadata": {
  "kernelspec": {
   "display_name": "Python 3 (ipykernel)",
   "language": "python",
   "name": "python3"
  },
  "language_info": {
   "codemirror_mode": {
    "name": "ipython",
    "version": 3
   },
   "file_extension": ".py",
   "mimetype": "text/x-python",
   "name": "python",
   "nbconvert_exporter": "python",
   "pygments_lexer": "ipython3",
   "version": "3.9.7"
  }
 },
 "nbformat": 4,
 "nbformat_minor": 5
}
